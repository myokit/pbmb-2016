{
 "cells": [
  {
   "cell_type": "markdown",
   "id": "345e05bd",
   "metadata": {},
   "source": [
    "## Example 7: A tissue simulation\n",
    "\n",
    "_This example requires OpenCL-capable hardware, drivers, and an OpenCL SDK._"
   ]
  },
  {
   "cell_type": "markdown",
   "id": "f5d7101a",
   "metadata": {},
   "source": [
    "In this example we expand the previous simulation from a 1d fiber to a 2d slice of tissue.\n",
    "\n",
    "As before, we'll modify the Ten Tusscher et al. model, but this time we:\n",
    "\n",
    "- Increase epicardial Ito, and implement voltage shifts in all Ito.\n",
    "- Apply heterogeneous changes to ICaL.\n",
    "\n",
    "Instead of using a model with hardcoded changes, we'll show how to make the changes dynamically."
   ]
  },
  {
   "cell_type": "markdown",
   "id": "3dfdb598",
   "metadata": {},
   "source": [
    "## Preparing the model"
   ]
  },
  {
   "cell_type": "code",
   "execution_count": 1,
   "id": "5858f5ab",
   "metadata": {},
   "outputs": [],
   "source": [
    "import myokit\n",
    "\n",
    "m = myokit.load_model('models/c/tentusscher-2006.mmt')"
   ]
  },
  {
   "cell_type": "markdown",
   "id": "b4f0f5ee",
   "metadata": {},
   "source": [
    "To modify Ito, we obtain a reference to its conductance variable and then change the right-hand side (RHS) of its defining equation:"
   ]
  },
  {
   "cell_type": "code",
   "execution_count": 2,
   "id": "040b30d0",
   "metadata": {},
   "outputs": [
    {
     "name": "stdout",
     "output_type": "stream",
     "text": [
      "if(cell.type == 0, 0.073 [mS/uF], 0.294 [mS/uF])\n"
     ]
    }
   ],
   "source": [
    "var = m.get('ito.gto')\n",
    "print(var.rhs())"
   ]
  },
  {
   "cell_type": "markdown",
   "id": "7ab0d71b",
   "metadata": {},
   "source": [
    "We'll update this to increase epicardial (but not mid-myocardial) Ito:"
   ]
  },
  {
   "cell_type": "code",
   "execution_count": 3,
   "id": "1cd173f7",
   "metadata": {},
   "outputs": [],
   "source": [
    "var.set_rhs('if(cell.type == 0, 0.073, if(cell.type == 2, 0.294, 0.85))')"
   ]
  },
  {
   "cell_type": "markdown",
   "id": "c6e03073",
   "metadata": {},
   "source": [
    "Next we implement voltage shifts in both of Ito's gating variables.\n",
    "We start by having a look at the full Ito component:"
   ]
  },
  {
   "cell_type": "code",
   "execution_count": 4,
   "id": "08b4472c",
   "metadata": {},
   "outputs": [
    {
     "name": "stdout",
     "output_type": "stream",
     "text": [
      "[ito]\n",
      "use nernst.EK as EK\n",
      "use membrane.V as V\n",
      "Ito = gto * r * s * (V - EK)\n",
      "    in [A/F]\n",
      "gto = if(cell.type == 0, 0.073, if(cell.type == 2, 0.294, 0.85))\n",
      "    in [mS/uF]\n",
      "dot(r) = (inf - r) / tau\n",
      "    inf = 1 / (1 + exp((20 [mV] - V) / 6 [mV]))\n",
      "    tau = 9.5 [ms] * exp(-(V + 40 [mV])^2 / 1800 [mV^2]) + 0.8 [ms]\n",
      "        in [ms]\n",
      "dot(s) = (inf - s) / tau\n",
      "    inf = if(cell.type == 0, 1 / (1 + exp((V + 28 [mV]) / 5 [mV])), 1 / (1 + exp((V + 20 [mV]) / 5 [mV])))\n",
      "    tau = if(cell.type == 0, 1000 [ms] * exp(-(V + 67 [mV])^2 / 1000 [mV^2]) + 8 [ms], 85 [ms] * exp(-(V + 45 [mV])^2 / 320 [mV^2]) + 5 [ms] / (1 + exp((V - 20 [mV]) / 5 [mV])) + 3 [ms])\n",
      "        in [ms]\n",
      "\n",
      "\n"
     ]
    }
   ],
   "source": [
    "print(m.get('ito').code())"
   ]
  },
  {
   "cell_type": "markdown",
   "id": "efe55a04",
   "metadata": {},
   "source": [
    "Our strategy to implement the voltage shifts will be to (1) introduce a new variable representing the shifted V and (2) to substitute V for the new variable:"
   ]
  },
  {
   "cell_type": "code",
   "execution_count": 5,
   "id": "0d71402f",
   "metadata": {},
   "outputs": [
    {
     "name": "stdout",
     "output_type": "stream",
     "text": [
      "dot(r) = (inf - r) / tau\n",
      "    inf = 1 / (1 + exp((20 [mV] - v20) / 6 [mV]))\n",
      "    tau = 9.5 [ms] * exp(-(v20 + 40 [mV])^2 / 1800 [mV^2]) + 0.8 [ms]\n",
      "        in [ms]\n",
      "    v20 = V + 20\n",
      "\n"
     ]
    }
   ],
   "source": [
    "V = m.get('membrane.V')\n",
    "v20 = m.get('ito.r').add_variable('v20')\n",
    "v20.set_rhs('V + 20')\n",
    "\n",
    "# Create a mapping from \"V\" to \"v20\"\n",
    "# Note that we need to use Name objects here: these represent\n",
    "# variables in myokit's expression system.\n",
    "sub = {myokit.Name(V): myokit.Name(v20)}\n",
    "\n",
    "var = m.get('ito.r.inf')\n",
    "var.set_rhs(var.rhs().clone(subst=sub))\n",
    "var = m.get('ito.r.tau')\n",
    "var.set_rhs(var.rhs().clone(subst=sub))\n",
    "            \n",
    "print(m.get('ito.r').code())"
   ]
  },
  {
   "cell_type": "code",
   "execution_count": 6,
   "id": "983254b6",
   "metadata": {},
   "outputs": [
    {
     "name": "stdout",
     "output_type": "stream",
     "text": [
      "dot(s) = (inf - s) / tau\n",
      "    inf = if(cell.type == 0, 1 / (1 + exp((v10 + 28 [mV]) / 5 [mV])), 1 / (1 + exp((v10 + 20 [mV]) / 5 [mV])))\n",
      "    tau = if(cell.type == 0, 1000 [ms] * exp(-(v10 + 67 [mV])^2 / 1000 [mV^2]) + 8 [ms], 85 [ms] * exp(-(v10 + 45 [mV])^2 / 320 [mV^2]) + 5 [ms] / (1 + exp((v10 - 20 [mV]) / 5 [mV])) + 3 [ms])\n",
      "        in [ms]\n",
      "    v10 = V + 10\n",
      "\n"
     ]
    }
   ],
   "source": [
    "V = m.get('membrane.V')\n",
    "v10 = m.get('ito.s').add_variable('v10')\n",
    "v10.set_rhs('V + 10')\n",
    "\n",
    "sub = {myokit.Name(V): myokit.Name(v10)}\n",
    "var = m.get('ito.s.inf')\n",
    "var.set_rhs(var.rhs().clone(subst=sub))\n",
    "var = m.get('ito.s.tau')\n",
    "var.set_rhs(var.rhs().clone(subst=sub))\n",
    "            \n",
    "print(m.get('ito.s').code())"
   ]
  },
  {
   "cell_type": "markdown",
   "id": "9b077442",
   "metadata": {},
   "source": [
    "Finally, we rework the equation for ICaL so that we can run with single precision."
   ]
  },
  {
   "cell_type": "code",
   "execution_count": 7,
   "id": "10b2648b",
   "metadata": {},
   "outputs": [
    {
     "name": "stdout",
     "output_type": "stream",
     "text": [
      "ical.gCaL * ical.d * ical.f * ical.f2 * ical.fCaSS * 4 * (membrane.V - 15 [mV]) * phys.FFRT * (0.25 * calcium.CaSS * exp(2 * (membrane.V - 15 [mV]) * phys.FRT) - extra.Cao) / (exp(2 * (membrane.V - 15 [mV]) * phys.FRT) - 1)\n"
     ]
    }
   ],
   "source": [
    "var = m.get('ical.ICaL')\n",
    "print(var.rhs())"
   ]
  },
  {
   "cell_type": "markdown",
   "id": "85983fb3",
   "metadata": {},
   "source": [
    "To make it more manageable, we will split up the equation into a number of terms:"
   ]
  },
  {
   "cell_type": "markdown",
   "id": "df51e427",
   "metadata": {},
   "source": [
    "\\begin{align}\n",
    "I_\\text{CaL} &= \n",
    "    g_\\text{CaL} d f f_2 f_\\text{Ca,SS} \\cdot 4 (V - 15) \\frac{F^2}{RT}\n",
    "    \\frac{\n",
    "        \\frac{1}{4} \\text{Ca}_\\text{SS} \\exp(2 (V - 15) \\frac{F}{RT}) - \\text{Ca}_o\n",
    "    }{\n",
    "        \\exp(2 (V - 15) \\frac{F}{RT}) - 1\n",
    "    } \\\\\n",
    "    &= c_1 (V - 15) \\frac{c_2 \\exp(c_3 (V - 15)) - \\text{Ca}_o}{\\exp(c_3 (V - 15)) - 1}\n",
    "\\end{align}\n",
    "\n",
    "where\n",
    "\\begin{align}\n",
    "c_1 &= 4 g_\\text{CaL} d f f_2 f_\\text{Ca,SS} \\frac{F^2}{RT} \\\\\n",
    "c_2 &= \\frac{1}{4} \\text{Ca}_\\text{SS} \\\\\n",
    "c_3 &= 2 \\frac{F}{RT} \\\\\n",
    "\\end{align}"
   ]
  },
  {
   "cell_type": "markdown",
   "id": "f862ce71",
   "metadata": {},
   "source": [
    "Now we can use [l'Hopital's rule](https://en.wikipedia.org/wiki/L%27H%C3%B4pital%27s_rule) to find an equation for the limit where V approaches 15 mV.\n",
    "\n",
    "\\begin{equation}\n",
    "\\lim_{V \\to 15} \\frac{f(V)}{g(V)} = \\lim_{V \\to 15} \\frac{f'(V)}{g'(V)}\n",
    "\\end{equation}"
   ]
  },
  {
   "cell_type": "markdown",
   "id": "09f9edd0",
   "metadata": {},
   "source": [
    "where\n",
    "\n",
    "\\begin{align}\n",
    "f(V) &= c_1 (V - 15) \\left[c_2 \\exp(c_3 (V - 15)) - \\text{Ca}_o \\right] \\\\\n",
    "f'(V) &= c_1 \\left[c_2 \\exp(c_3 (V - 15)) - \\text{Ca}_o \\right] + c_1 (V - 15) \\left[c_2 c_3 \\exp(c_3 (V - 15)) \\right] \\\\\n",
    "f'(15) &= c_1 \\left[c_2 - \\text{Ca}_o \\right]\n",
    "\\end{align}\n",
    "\n",
    "and\n",
    "\n",
    "\\begin{align}\n",
    "g(V) &= \\exp(c_3 (V - 15)) - 1 \\\\\n",
    "g'(V) &= c_3 \\exp(c_3 (V - 15)) \\\\\n",
    "g'(15) &= c_3\n",
    "\\end{align}\n",
    "\n",
    "so that $I_\\text{CaL}(V = 15) = c_1 (c_2 - \\text{Ca}_o) / c_3$"
   ]
  },
  {
   "cell_type": "markdown",
   "id": "d8c7c7db",
   "metadata": {},
   "source": [
    "We can now implement this in code:"
   ]
  },
  {
   "cell_type": "code",
   "execution_count": 8,
   "id": "a2ef9537",
   "metadata": {},
   "outputs": [
    {
     "name": "stdout",
     "output_type": "stream",
     "text": [
      "ICaL = if(abs(V - 15) > 1e-6, c1 * (V - 15) * (c2 * exp(c3 * (V - 15)) - Cao) / (exp(c3 * (V - 15)) - 1), c1 * (c2 - Cao) / c3)\n",
      "    in [A/F]\n",
      "    c1 = gCaL * d * f * f2 * fCaSS * 4 * FFRT\n",
      "    c2 = 0.25 * CaSS\n",
      "    c3 = 2 * FRT\n",
      "\n"
     ]
    }
   ],
   "source": [
    "ical = m.get('ical.ICaL')\n",
    "c1 = ical.add_variable('c1')\n",
    "c1.set_rhs('gCaL * d * f * f2 * fCaSS * 4 * FFRT')\n",
    "c2 = ical.add_variable('c2')\n",
    "c2.set_rhs('0.25 * CaSS')\n",
    "c3 = ical.add_variable('c3')\n",
    "c3.set_rhs('2 * FRT')\n",
    "\n",
    "ex1 = 'c1 * (V - 15) * (c2 * exp(c3 * (V - 15)) - Cao) / (exp(c3 * (V - 15)) - 1)'\n",
    "ex2 = 'c1 * (c2 - Cao) / c3'\n",
    "ical.set_rhs(f'if(abs(V - 15) > 1e-6, {ex1}, {ex2})')\n",
    "\n",
    "print(ical.code())"
   ]
  },
  {
   "cell_type": "markdown",
   "id": "d154367d",
   "metadata": {},
   "source": [
    "## Running the simulation\n",
    "\n",
    "Finally, we're ready to create and run the simulation.\n",
    "\n",
    "Note that we change ICaL conductance in this code, and use the \"field\" method we used before to make these changes heterogenously."
   ]
  },
  {
   "cell_type": "code",
   "execution_count": 9,
   "id": "e4b9d66d",
   "metadata": {},
   "outputs": [
    {
     "name": "stdout",
     "output_type": "stream",
     "text": [
      "[0.0 minutes] 0 % done\n",
      "[1.2 minutes] 10 % done, estimated 10.7 minutes remaining\n",
      "[2.4 minutes] 20 % done, estimated 9.8 minutes remaining\n",
      "[3.6 minutes] 30 % done, estimated 8.4 minutes remaining\n",
      "[4.7 minutes] 40 % done, estimated 7.0 minutes remaining\n",
      "[5.8 minutes] 50 % done, estimated 5.8 minutes remaining\n",
      "[6.9 minutes] 60 % done, estimated 4.6 minutes remaining\n",
      "[8.0 minutes] 70 % done, estimated 3.4 minutes remaining\n",
      "[9.1 minutes] 80 % done, estimated 2.3 minutes remaining\n",
      "[10.1 minutes] 90 % done, estimated 1.1 minutes remaining\n",
      "[11.2 minutes] 100 % done, estimated 0 seconds remaining\n",
      "Saving...\n"
     ]
    }
   ],
   "source": [
    "# Tissue dimensions\n",
    "n_end = 60      # 60  0-59\n",
    "n_mid = 45      # 45  60-104\n",
    "n_epi = 60      # 60  105-164\n",
    "ny = n_end + n_mid + n_epi\n",
    "nx = 400 \n",
    "\n",
    "# Reduced conductance\n",
    "gx = 2\n",
    "gy = 4\n",
    "\n",
    "# Create a protocol\n",
    "p = myokit.pacing.blocktrain(period=2000, offset=1, duration=2)\n",
    "   \n",
    "# Create a multi-cell simulation\n",
    "s = myokit.SimulationOpenCL(m, p, ncells=(nx, ny))\n",
    "\n",
    "# Configure the simulation\n",
    "s.set_step_size(0.001)\n",
    "s.set_conductance(gx, gy)\n",
    "\n",
    "# Pacing at the endocardial side\n",
    "s.set_paced_cells(nx, 2)\n",
    "\n",
    "# Add a scalar field representing the cell type (0:endo, 1:epi, 2:mid)\n",
    "import numpy as np\n",
    "types = np.array([0] * n_end + [2] * n_mid + [1] * n_epi)\n",
    "types = np.vstack([types] * nx).transpose()\n",
    "s.set_field('cell.type', types)\n",
    "\n",
    "# Add heterogenous ical\n",
    "nx1 = int(0.1 * nx)\n",
    "nx2 = nx - nx1\n",
    "gcal = np.array([0.03] * nx1 + [0.012] * nx2)\n",
    "gcal = np.vstack([gcal] * ny)\n",
    "s.set_field('ical.gCaL', gcal)\n",
    "\n",
    "# Run logged simulation\n",
    "r = myokit.ProgressPrinter(digits=-1)\n",
    "d = s.run(700, log_interval=5, log=['engine.time', 'membrane.V'], progress=r)\n",
    "\n",
    "# Create DataBlock2d from results\n",
    "b = d.block2d()\n",
    "\n",
    "# Save to disk for inspection with Viewer\n",
    "print('Saving...')\n",
    "b.save('ttp-transmural-plane.zip')"
   ]
  },
  {
   "cell_type": "markdown",
   "id": "5b0bf802",
   "metadata": {},
   "source": [
    "## Viewing the result"
   ]
  },
  {
   "cell_type": "markdown",
   "id": "3468eb12",
   "metadata": {},
   "source": [
    "At this point we've run a simulation and stored the results in a zip file.\n",
    "But how can we view the data?\n",
    "\n",
    "First, individual cells APs can be plotted just like we did before.\n",
    "But a nicer 2d view is available by opening Myokit's \"DataBlock viewer\".\n",
    "This can be achieved by typing `python -m myokit block` into a terminal window.\n"
   ]
  },
  {
   "cell_type": "markdown",
   "id": "20c9c52d",
   "metadata": {},
   "source": [
    "![A screenshot of the DataBlock2d viewer](block-viewer-1.png)"
   ]
  },
  {
   "cell_type": "markdown",
   "id": "cb56fe2c",
   "metadata": {},
   "source": [
    "This can be used to view 2D colormap animations of the AP or any other logged signal.\n",
    "By clicking anywhere on the animation, a time-trace at that point can be plotted, and a double-click \"freezes\" this trace in the lower panel."
   ]
  },
  {
   "cell_type": "markdown",
   "id": "d9ff94d6",
   "metadata": {},
   "source": [
    "### Creating animations"
   ]
  },
  {
   "cell_type": "markdown",
   "id": "2c0ddfc1",
   "metadata": {},
   "source": [
    "If the additional python package [moviepy](https://pypi.org/project/moviepy/) is installed, videos can also be made from the command line. E.g.\n",
    "```\n",
    "myokit video ttp-transmural-plane.zip membrane.V -dst video.mp4\n",
    "```\n",
    "creates an mp4 file [video.mp4](./video.mp4).\n",
    "\n",
    "Other formats can be created by typing different extensions e.g. `-dst video.webm` (which works in my browser)."
   ]
  },
  {
   "cell_type": "markdown",
   "id": "32c8e183",
   "metadata": {},
   "source": [
    "Showing these in notebook is tricky. This might work locally:"
   ]
  },
  {
   "cell_type": "code",
   "execution_count": 5,
   "id": "5777e9c4",
   "metadata": {},
   "outputs": [
    {
     "data": {
      "text/html": [
       "<video src=\"video.webm\" controls  >\n",
       "      Your browser does not support the <code>video</code> element.\n",
       "    </video>"
      ],
      "text/plain": [
       "<IPython.core.display.Video object>"
      ]
     },
     "execution_count": 5,
     "metadata": {},
     "output_type": "execute_result"
    }
   ],
   "source": [
    "from IPython.display import Video\n",
    "Video(\"video.webm\")"
   ]
  },
  {
   "cell_type": "markdown",
   "id": "d3031431",
   "metadata": {},
   "source": [
    "This might work in github's viewer:\n",
    "\n",
    "<video src=\"video.webm\" width=400 />"
   ]
  }
 ],
 "metadata": {
  "kernelspec": {
   "display_name": "Python 3 (ipykernel)",
   "language": "python",
   "name": "python3"
  },
  "language_info": {
   "codemirror_mode": {
    "name": "ipython",
    "version": 3
   },
   "file_extension": ".py",
   "mimetype": "text/x-python",
   "name": "python",
   "nbconvert_exporter": "python",
   "pygments_lexer": "ipython3",
   "version": "3.11.1"
  }
 },
 "nbformat": 4,
 "nbformat_minor": 5
}
