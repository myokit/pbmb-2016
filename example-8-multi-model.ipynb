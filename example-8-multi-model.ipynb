{
 "cells": [
  {
   "cell_type": "markdown",
   "id": "345e05bd",
   "metadata": {},
   "source": [
    "## Example 8: Multi-model simulation"
   ]
  },
  {
   "cell_type": "markdown",
   "id": "f5d7101a",
   "metadata": {},
   "source": [
    "In this example we show how to work with multiple models using the same code for each.\n",
    "\n",
    "To let the script know which variables have particular meanings (e.g. which is the membrane potential), we've added _labels_ (for outputs) and _bindings_ (a silly name for inputs) to each model.\n",
    "\n",
    "We place the following requirements on the models:\n",
    "\n",
    "- Each must have a meta data property `name` with a simple model name.\n",
    "- Each must have its membrane potential variable labelled as `membrane_potential`.\n",
    "- Each must have its L-type calcium current (all species and compartments combined) labelled as `ICaL`.\n",
    "- Each must contain a variable labelled `gCaL`, that can be scaled to scale `ICaL`.\n",
    "- If a model has modes/switches, it must be in baseline mode (no disease models etc.) and set to epicardial cells (if possible).\n",
    "\n",
    "We also assume that each `mmt` file contains"
   ]
  },
  {
   "cell_type": "markdown",
   "id": "4117fd75",
   "metadata": {},
   "source": [
    "Using the assumptions, in the example below we:\n",
    "\n",
    "- iterate over a list of model file names\n",
    "- load the model and protocol from each file\n",
    "- obtain the membrane potential and ICaL variable from each model\n",
    "- run a 1Hz simulation to obtain the baseline action potential duration (APD)\n",
    "- modify the ICaL in the model to be half its size, run another simulation and measure the APD again\n"
   ]
  },
  {
   "cell_type": "code",
   "execution_count": 1,
   "id": "c1ec5943",
   "metadata": {},
   "outputs": [
    {
     "name": "stdout",
     "output_type": "stream",
     "text": [
      "Loaded priebe-1998\n",
      "  Pre-pacing...\n",
      "  Measuring baseline apd...\n",
      "  Measuring modified apd...\n",
      "  Difference: -57.03690247866763 ms\n",
      "Loaded iyer-2004\n",
      "  Pre-pacing...\n",
      "  Measuring baseline apd...\n",
      "  Measuring modified apd...\n",
      "  Difference: -90.15790640803968 ms\n",
      "Loaded tentusscher-2004\n",
      "  Pre-pacing...\n",
      "  Measuring baseline apd...\n",
      "  Measuring modified apd...\n",
      "  Difference: -55.342723760400816 ms\n",
      "Loaded tentusscher-2006\n",
      "  Pre-pacing...\n",
      "  Measuring baseline apd...\n",
      "  Measuring modified apd...\n",
      "  Difference: -50.4367058138055 ms\n",
      "Loaded priebe-1998\n",
      "  Pre-pacing...\n",
      "  Measuring baseline apd...\n",
      "  Measuring modified apd...\n",
      "  Difference: -57.03690247866763 ms\n",
      "Loaded grandi-2010\n",
      "  Pre-pacing...\n",
      "  Measuring baseline apd...\n",
      "  Measuring modified apd...\n",
      "  Difference: -58.90907637623076 ms\n",
      "Loaded ohara-2011\n",
      "  Pre-pacing...\n",
      "  Measuring baseline apd...\n",
      "  Measuring modified apd...\n",
      "  Difference: -27.072142655352792 ms\n",
      "Loaded li-2017\n",
      "  Pre-pacing...\n",
      "  Measuring baseline apd...\n",
      "  Measuring modified apd...\n",
      "  Difference: -36.58475121189454 ms\n"
     ]
    }
   ],
   "source": [
    "import os\n",
    "\n",
    "import myokit\n",
    "\n",
    "models = [\n",
    "    'priebe-1998.mmt',\n",
    "    'iyer-2004.mmt',\n",
    "    'tentusscher-2004.mmt',\n",
    "    'tentusscher-2006.mmt',\n",
    "    'priebe-1998.mmt',\n",
    "    'grandi-2010.mmt',\n",
    "    'ohara-2011.mmt',\n",
    "    'ohara-cipa-v1-2017.mmt',\n",
    "]\n",
    "\n",
    "# This will be used to store the results\n",
    "names = []\n",
    "delta_apds = []\n",
    "\n",
    "# Iterate over the list of models\n",
    "for filename in models:\n",
    "    path = os.path.join('models', 'c', filename)\n",
    "    model, protocol, _ = myokit.load(path)\n",
    "    \n",
    "    # Show the loaded model's name\n",
    "    name = model.meta['name']\n",
    "    names.append(name)\n",
    "    print('Loaded ' + name)\n",
    "\n",
    "    # Find the membrane potential, the l-type calcium current,\n",
    "    # and a variable that scales it.\n",
    "    # Instead of using .label, we use .labelx, which will raise\n",
    "    # an exception if model doesn't contain the label.\n",
    "    vm = model.labelx('membrane_potential')\n",
    "    ical = model.labelx('ICaL')\n",
    "    gcal = model.labelx('gCaL')\n",
    "\n",
    "    # Obtain the duration of a stimulus pulse from the embedded protocol\n",
    "    duration = protocol.head().duration()\n",
    "    # ...and use it to create a new protocol with cycle length 1000ms\n",
    "    protocol = myokit.pacing.blocktrain(1000, duration)\n",
    " \n",
    "    # Create a simulation\n",
    "    s = myokit.Simulation(model, protocol)\n",
    "\n",
    "    # Pre-pace the model for 50 beats\n",
    "    print('  Pre-pacing...')\n",
    "    #s.pre(50 * 1000)\n",
    "   \n",
    "    # Measure the baseline APD at V=-70mV\n",
    "    print('  Measuring baseline apd...')\n",
    "    x, apds = s.run(1000, log=myokit.LOG_NONE, apd_variable=vm, apd_threshold=-70)\n",
    "\n",
    "    # The returned object `apds` contains more info that we need, extract only\n",
    "    # the duration of the first AP\n",
    "    apd_baseline = apds['duration'][0]\n",
    "\n",
    "    # Update the model, reducing ICaL to 50%\n",
    "    ical.set_rhs(myokit.Multiply(ical.rhs(), myokit.Number(0.5)))\n",
    "    \n",
    "    # Scale the L-type calcium current\n",
    "    s.set_constant(gcal, 0.5 * gcal.rhs().value())\n",
    "    \n",
    "    # Measure the new apd\n",
    "    print('  Measuring modified apd...')\n",
    "    s.reset()\n",
    "    x, apds = s.run(\n",
    "        1000, log=myokit.LOG_NONE, apd_variable=vm, apd_threshold=-70)\n",
    "    apd_modified = apds['duration'][0]\n",
    "\n",
    "    # Store the difference between the APDs\n",
    "    delta = apd_modified - apd_baseline\n",
    "    delta_apds.append(delta)\n",
    "    print(f'  Difference: {delta} ms')\n"
   ]
  },
  {
   "cell_type": "markdown",
   "id": "a61d6fb0",
   "metadata": {},
   "source": [
    "Next, we create a bar graph of the results:"
   ]
  },
  {
   "cell_type": "code",
   "execution_count": 2,
   "id": "c27deed1",
   "metadata": {},
   "outputs": [
    {
     "data": {
      "image/png": "[encoded data removed]",
      "text/plain": [
       "<Figure size 500x600 with 1 Axes>"
      ]
     },
     "metadata": {
      "needs_background": "light"
     },
     "output_type": "display_data"
    }
   ],
   "source": [
    "import matplotlib.pyplot as plt\n",
    "\n",
    "fig = plt.figure(figsize=(5, 6), dpi=100)\n",
    "ax = fig.add_subplot()\n",
    "ax.set_xlabel('Acute change in APD (ms)')\n",
    "ax.set_xlim(-100, 5)\n",
    "ax.set_ylim(-1, len(models))\n",
    "ax.grid(True)\n",
    "\n",
    "positions = list(range(len(models)))\n",
    "ax.set_yticks(positions, names)\n",
    "ax.barh(positions, delta_apds)\n",
    "\n",
    "plt.show()"
   ]
  },
  {
   "cell_type": "markdown",
   "id": "a0b0dae7",
   "metadata": {},
   "source": [
    "Note that we could have gone a lot further here.\n",
    "\n",
    "For example, we made the implicit assumption that all models used milliseconds, but we could have checked this (e.g. with [model.time()](https://myokit.readthedocs.io/en/stable/api_core/Model.html#myokit.Model.time) and [variable.unit()](https://myokit.readthedocs.io/en/stable/api_core/Variable.html?highlight=convert_unit#myokit.Variable.unit)) and converted if necessary (with [variable.convert_unit()](https://myokit.readthedocs.io/en/stable/api_core/Variable.html?highlight=convert_unit#myokit.Variable.convert_unit)),\n",
    "\n",
    "Another tacit assumption was that `gCaL` pointed to a variable with a literal value, so that it could be changed with [Simulation.set_constant](https://myokit.readthedocs.io/en/stable/api_simulations/Simulation.html#myokit.Simulation.set_constant).\n",
    "Alternatively, we could have forced the variable to become a constant (e.g. `gCaL.set_rhs(gCaL.rhs().eval())`) or even modified the model and created a new simulation (e.g. `gCaL.set_rhs(myokit.Multiply(myokit.Number(0.5), gCaL.rhs()))`).\n",
    "\n",
    "A project that incorporates similar ideas in an organised way, is the [Cardiac Electrophysiology Web Lab](https://chaste.cs.ox.ac.uk/WebLab)."
   ]
  }
 ],
 "metadata": {
  "kernelspec": {
   "display_name": "Python 3 (ipykernel)",
   "language": "python",
   "name": "python3"
  },
  "language_info": {
   "codemirror_mode": {
    "name": "ipython",
    "version": 3
   },
   "file_extension": ".py",
   "mimetype": "text/x-python",
   "name": "python",
   "nbconvert_exporter": "python",
   "pygments_lexer": "ipython3",
   "version": "3.11.1"
  }
 },
 "nbformat": 4,
 "nbformat_minor": 5
}
